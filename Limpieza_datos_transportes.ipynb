{
  "nbformat": 4,
  "nbformat_minor": 0,
  "metadata": {
    "colab": {
      "name": "Limpieza_datos_transportes.ipynb",
      "provenance": [],
      "collapsed_sections": [],
      "include_colab_link": true
    },
    "kernelspec": {
      "name": "python3",
      "display_name": "Python 3"
    },
    "language_info": {
      "name": "python"
    }
  },
  "cells": [
    {
      "cell_type": "markdown",
      "metadata": {
        "id": "view-in-github",
        "colab_type": "text"
      },
      "source": [
        "<a href=\"https://colab.research.google.com/github/ConstanzaG/Proyecto-Final-Grupo4-Turismo/blob/main/Limpieza_datos_transportes.ipynb\" target=\"_parent\"><img src=\"https://colab.research.google.com/assets/colab-badge.svg\" alt=\"Open In Colab\"/></a>"
      ]
    },
    {
      "cell_type": "code",
      "execution_count": null,
      "metadata": {
        "id": "faNKDdgdvcz-"
      },
      "outputs": [],
      "source": [
        "import numpy as np\n",
        "import pandas as pd\n",
        "import seaborn as sns\n",
        "import matplotlib.pyplot as plt\n",
        "%matplotlib inline"
      ]
    },
    {
      "cell_type": "code",
      "source": [
        "#Cargar primer DataSet\n",
        "transporte1 = pd.read_csv('Taxis_Buses_Turismo2015.csv', sep=',')\n",
        "#Eliminar columnas que no se usarán\n",
        "del transporte1[\"Calle\"]\n",
        "del transporte1[\"Numero\"]\n",
        "del transporte1[\"Otro\"]\n",
        "del transporte1[\"Fono Gerencia o Adm.\"]\n",
        "del transporte1[\"Web\"]\n",
        "#Corregir nombre de las columnas\n",
        "transporte1 = transporte1.rename(columns={\"_id\": \"ID\"})\n",
        "transporte1 = transporte1.rename(columns={\"Region\": \"Región\"})\n",
        "transporte1 = transporte1.rename(columns={\"Nombre Establecimiento\": \"Nombre Servicio\"})\n",
        "#Variable transporte_corr1 tomará el dataframe final\n",
        "transporte_corr1 = transporte1\n",
        "#Transformar valor ID de String a Int\n",
        "transporte_corr1['ID'] = transporte_corr1['ID'].astype(int)"
      ],
      "metadata": {
        "id": "hnROhYwg0_lp"
      },
      "execution_count": null,
      "outputs": []
    },
    {
      "cell_type": "code",
      "source": [
        "#Exportar Dataframe a Google Drive\n",
        "from google.colab import drive\n",
        "#drive.mount('/content/drive/')\n",
        "drive.mount('/content/drive/', force_remount=True)\n",
        "transporte_corr1.to_csv('/content/drive/My Drive/exportaciones/transporte1.csv')"
      ],
      "metadata": {
        "colab": {
          "base_uri": "https://localhost:8080/"
        },
        "id": "E2xGAuIhj9gN",
        "outputId": "114a6850-209f-4b85-d03d-6b70ea017ecd"
      },
      "execution_count": null,
      "outputs": [
        {
          "output_type": "stream",
          "name": "stdout",
          "text": [
            "Mounted at /content/drive/\n"
          ]
        }
      ]
    },
    {
      "cell_type": "code",
      "source": [
        "#Cargar segundo DataSet\n",
        "transporte2 = pd.read_csv('Transporte_Carretera_Interurbana2015.csv', sep=',')\n",
        "#Eliminar columnas que no se usarán\n",
        "del transporte2[\"Calle\"]\n",
        "del transporte2[\"Numero\"]\n",
        "del transporte2[\"Otro\"]\n",
        "del transporte2[\"Fono Gerencia o Adm.\"]\n",
        "del transporte2[\"Web\"]\n",
        "#Corregir nombre de las columnas\n",
        "transporte2 = transporte2.rename(columns={\"_id\": \"ID\"})\n",
        "transporte2 = transporte2.rename(columns={\"Region\": \"Región\"})\n",
        "transporte2 = transporte2.rename(columns={\"Nombre Establecimiento\": \"Nombre Servicio\"})\n",
        "#Variable transporte_corr2 tomará el dataframe final\n",
        "transporte_corr2 = transporte2\n",
        "#Cambiar valor ID desde el final del primer DataFrame para concatenar sin problemas\n",
        "#Transformar valor ID de String a Int\n",
        "transporte_corr2['ID'] = transporte_corr2['ID'].astype(int)\n",
        "transporte_corr2[\"ID\"] = transporte_corr2[\"ID\"]+69"
      ],
      "metadata": {
        "id": "1i4IXJVlRPBk"
      },
      "execution_count": null,
      "outputs": []
    },
    {
      "cell_type": "code",
      "source": [
        "#Exportar Dataframe a Google Drive\n",
        "from google.colab import drive\n",
        "#drive.mount('/content/drive/')\n",
        "drive.mount('/content/drive/', force_remount=True)\n",
        "transporte_corr2.to_csv('/content/drive/My Drive/exportaciones/transporte2.csv')"
      ],
      "metadata": {
        "colab": {
          "base_uri": "https://localhost:8080/"
        },
        "id": "QDvLDWBWi3Sr",
        "outputId": "447298db-facc-495f-d6db-73cb8e425a93"
      },
      "execution_count": null,
      "outputs": [
        {
          "output_type": "stream",
          "name": "stdout",
          "text": [
            "Mounted at /content/drive/\n"
          ]
        }
      ]
    },
    {
      "cell_type": "code",
      "source": [
        "#Combinar DF transporte_corr1 y transporte_corr2\n",
        "concatenar_df = [transporte_corr1, transporte_corr2]\n",
        "data_transportes_final = pd.concat(concatenar_df)\n",
        "data_transportes_final.head()"
      ],
      "metadata": {
        "colab": {
          "base_uri": "https://localhost:8080/",
          "height": 206
        },
        "id": "qX4W-34-2fXR",
        "outputId": "5e9e447c-3d33-40c1-a74c-5838ac379a1c"
      },
      "execution_count": null,
      "outputs": [
        {
          "output_type": "execute_result",
          "data": {
            "text/plain": [
              "   ID              Región Provincia                Comuna  \\\n",
              "0   1  ARICA Y PARINACOTA     ARICA                 ARICA   \n",
              "1   2         ANTOFAGASTA    EL LOA  SAN PEDRO DE ATACAMA   \n",
              "2   3            COQUIMBO     ELQUI             LA SERENA   \n",
              "3   4            COQUIMBO     ELQUI             LA SERENA   \n",
              "4   5            COQUIMBO     ELQUI             LA SERENA   \n",
              "\n",
              "              Localidad               Destino  \\\n",
              "0                 ARICA                 Arica   \n",
              "1  SAN PEDRO DE ATACAMA  San Pedro de Atacama   \n",
              "2             LA SERENA  la Serena y Coquimbo   \n",
              "3             LA SERENA  la Serena y Coquimbo   \n",
              "4             LA SERENA  la Serena y Coquimbo   \n",
              "\n",
              "                         Nombre Servicio  \n",
              "0                 TURISMO MORRO DE ARICA  \n",
              "1       Servicio de Taxis Condor (Haari)  \n",
              "2                      ELQUI VALLEY TOUR  \n",
              "3                  Transporte Aguafuerte  \n",
              "4  TRANSPORTE DE TURISMO NORMA VELASQUEZ  "
            ],
            "text/html": [
              "\n",
              "  <div id=\"df-756285d4-922d-42b4-a282-532df6099fad\">\n",
              "    <div class=\"colab-df-container\">\n",
              "      <div>\n",
              "<style scoped>\n",
              "    .dataframe tbody tr th:only-of-type {\n",
              "        vertical-align: middle;\n",
              "    }\n",
              "\n",
              "    .dataframe tbody tr th {\n",
              "        vertical-align: top;\n",
              "    }\n",
              "\n",
              "    .dataframe thead th {\n",
              "        text-align: right;\n",
              "    }\n",
              "</style>\n",
              "<table border=\"1\" class=\"dataframe\">\n",
              "  <thead>\n",
              "    <tr style=\"text-align: right;\">\n",
              "      <th></th>\n",
              "      <th>ID</th>\n",
              "      <th>Región</th>\n",
              "      <th>Provincia</th>\n",
              "      <th>Comuna</th>\n",
              "      <th>Localidad</th>\n",
              "      <th>Destino</th>\n",
              "      <th>Nombre Servicio</th>\n",
              "    </tr>\n",
              "  </thead>\n",
              "  <tbody>\n",
              "    <tr>\n",
              "      <th>0</th>\n",
              "      <td>1</td>\n",
              "      <td>ARICA Y PARINACOTA</td>\n",
              "      <td>ARICA</td>\n",
              "      <td>ARICA</td>\n",
              "      <td>ARICA</td>\n",
              "      <td>Arica</td>\n",
              "      <td>TURISMO MORRO DE ARICA</td>\n",
              "    </tr>\n",
              "    <tr>\n",
              "      <th>1</th>\n",
              "      <td>2</td>\n",
              "      <td>ANTOFAGASTA</td>\n",
              "      <td>EL LOA</td>\n",
              "      <td>SAN PEDRO DE ATACAMA</td>\n",
              "      <td>SAN PEDRO DE ATACAMA</td>\n",
              "      <td>San Pedro de Atacama</td>\n",
              "      <td>Servicio de Taxis Condor (Haari)</td>\n",
              "    </tr>\n",
              "    <tr>\n",
              "      <th>2</th>\n",
              "      <td>3</td>\n",
              "      <td>COQUIMBO</td>\n",
              "      <td>ELQUI</td>\n",
              "      <td>LA SERENA</td>\n",
              "      <td>LA SERENA</td>\n",
              "      <td>la Serena y Coquimbo</td>\n",
              "      <td>ELQUI VALLEY TOUR</td>\n",
              "    </tr>\n",
              "    <tr>\n",
              "      <th>3</th>\n",
              "      <td>4</td>\n",
              "      <td>COQUIMBO</td>\n",
              "      <td>ELQUI</td>\n",
              "      <td>LA SERENA</td>\n",
              "      <td>LA SERENA</td>\n",
              "      <td>la Serena y Coquimbo</td>\n",
              "      <td>Transporte Aguafuerte</td>\n",
              "    </tr>\n",
              "    <tr>\n",
              "      <th>4</th>\n",
              "      <td>5</td>\n",
              "      <td>COQUIMBO</td>\n",
              "      <td>ELQUI</td>\n",
              "      <td>LA SERENA</td>\n",
              "      <td>LA SERENA</td>\n",
              "      <td>la Serena y Coquimbo</td>\n",
              "      <td>TRANSPORTE DE TURISMO NORMA VELASQUEZ</td>\n",
              "    </tr>\n",
              "  </tbody>\n",
              "</table>\n",
              "</div>\n",
              "      <button class=\"colab-df-convert\" onclick=\"convertToInteractive('df-756285d4-922d-42b4-a282-532df6099fad')\"\n",
              "              title=\"Convert this dataframe to an interactive table.\"\n",
              "              style=\"display:none;\">\n",
              "        \n",
              "  <svg xmlns=\"http://www.w3.org/2000/svg\" height=\"24px\"viewBox=\"0 0 24 24\"\n",
              "       width=\"24px\">\n",
              "    <path d=\"M0 0h24v24H0V0z\" fill=\"none\"/>\n",
              "    <path d=\"M18.56 5.44l.94 2.06.94-2.06 2.06-.94-2.06-.94-.94-2.06-.94 2.06-2.06.94zm-11 1L8.5 8.5l.94-2.06 2.06-.94-2.06-.94L8.5 2.5l-.94 2.06-2.06.94zm10 10l.94 2.06.94-2.06 2.06-.94-2.06-.94-.94-2.06-.94 2.06-2.06.94z\"/><path d=\"M17.41 7.96l-1.37-1.37c-.4-.4-.92-.59-1.43-.59-.52 0-1.04.2-1.43.59L10.3 9.45l-7.72 7.72c-.78.78-.78 2.05 0 2.83L4 21.41c.39.39.9.59 1.41.59.51 0 1.02-.2 1.41-.59l7.78-7.78 2.81-2.81c.8-.78.8-2.07 0-2.86zM5.41 20L4 18.59l7.72-7.72 1.47 1.35L5.41 20z\"/>\n",
              "  </svg>\n",
              "      </button>\n",
              "      \n",
              "  <style>\n",
              "    .colab-df-container {\n",
              "      display:flex;\n",
              "      flex-wrap:wrap;\n",
              "      gap: 12px;\n",
              "    }\n",
              "\n",
              "    .colab-df-convert {\n",
              "      background-color: #E8F0FE;\n",
              "      border: none;\n",
              "      border-radius: 50%;\n",
              "      cursor: pointer;\n",
              "      display: none;\n",
              "      fill: #1967D2;\n",
              "      height: 32px;\n",
              "      padding: 0 0 0 0;\n",
              "      width: 32px;\n",
              "    }\n",
              "\n",
              "    .colab-df-convert:hover {\n",
              "      background-color: #E2EBFA;\n",
              "      box-shadow: 0px 1px 2px rgba(60, 64, 67, 0.3), 0px 1px 3px 1px rgba(60, 64, 67, 0.15);\n",
              "      fill: #174EA6;\n",
              "    }\n",
              "\n",
              "    [theme=dark] .colab-df-convert {\n",
              "      background-color: #3B4455;\n",
              "      fill: #D2E3FC;\n",
              "    }\n",
              "\n",
              "    [theme=dark] .colab-df-convert:hover {\n",
              "      background-color: #434B5C;\n",
              "      box-shadow: 0px 1px 3px 1px rgba(0, 0, 0, 0.15);\n",
              "      filter: drop-shadow(0px 1px 2px rgba(0, 0, 0, 0.3));\n",
              "      fill: #FFFFFF;\n",
              "    }\n",
              "  </style>\n",
              "\n",
              "      <script>\n",
              "        const buttonEl =\n",
              "          document.querySelector('#df-756285d4-922d-42b4-a282-532df6099fad button.colab-df-convert');\n",
              "        buttonEl.style.display =\n",
              "          google.colab.kernel.accessAllowed ? 'block' : 'none';\n",
              "\n",
              "        async function convertToInteractive(key) {\n",
              "          const element = document.querySelector('#df-756285d4-922d-42b4-a282-532df6099fad');\n",
              "          const dataTable =\n",
              "            await google.colab.kernel.invokeFunction('convertToInteractive',\n",
              "                                                     [key], {});\n",
              "          if (!dataTable) return;\n",
              "\n",
              "          const docLinkHtml = 'Like what you see? Visit the ' +\n",
              "            '<a target=\"_blank\" href=https://colab.research.google.com/notebooks/data_table.ipynb>data table notebook</a>'\n",
              "            + ' to learn more about interactive tables.';\n",
              "          element.innerHTML = '';\n",
              "          dataTable['output_type'] = 'display_data';\n",
              "          await google.colab.output.renderOutput(dataTable, element);\n",
              "          const docLink = document.createElement('div');\n",
              "          docLink.innerHTML = docLinkHtml;\n",
              "          element.appendChild(docLink);\n",
              "        }\n",
              "      </script>\n",
              "    </div>\n",
              "  </div>\n",
              "  "
            ]
          },
          "metadata": {},
          "execution_count": 8
        }
      ]
    },
    {
      "cell_type": "code",
      "source": [
        "#Exportar Dataframe a Google Drive\n",
        "from google.colab import drive\n",
        "#drive.mount('/content/drive/')\n",
        "drive.mount('/content/drive/', force_remount=True)\n",
        "data_transportes_final.to_csv('/content/drive/My Drive/exportaciones/data_transportes_final.csv')"
      ],
      "metadata": {
        "colab": {
          "base_uri": "https://localhost:8080/"
        },
        "id": "T5mgzfSH1K2X",
        "outputId": "0a556a04-0b96-4cab-c88a-08bd9f273d16"
      },
      "execution_count": null,
      "outputs": [
        {
          "output_type": "stream",
          "name": "stdout",
          "text": [
            "Mounted at /content/drive/\n"
          ]
        }
      ]
    },
    {
      "cell_type": "code",
      "source": [
        ""
      ],
      "metadata": {
        "id": "spM9b4WuOrij"
      },
      "execution_count": null,
      "outputs": []
    },
    {
      "cell_type": "code",
      "source": [
        "#usado anteriormente para limpieza de datos\n",
        "transporte_corr_limpio.loc[transporte[\"Región\"] == \"TARAPACµ\", \"Región\"] = \"TARAPACÁ\"\n",
        "transporte_corr_limpio.loc[transporte[\"Región\"] == \"VALPARAÖSO\", \"Región\"] = \"VALPARAÍSO\"\n",
        "transporte_corr_limpio.loc[transporte[\"Región\"] == \"BÖO-BÖO\", \"Región\"] = \"BÍO-BÍO\"\n",
        "transporte_corr_limpio.loc[transporte[\"Región\"] == \"LA ARAUCANÖA\", \"Región\"] = \"LA ARAUCANÍA\"\n",
        "transporte_corr_limpio.loc[transporte[\"Región\"] == \"AYS\\x90N\", \"Región\"] = \"AYSÉN\"\n",
        "transporte_corr_limpio.loc[transporte[\"Región\"] == \"LOS RÖOS\", \"Región\"] = \"LOS RÍOS\""
      ],
      "metadata": {
        "id": "ElzAX0jTN2Bj"
      },
      "execution_count": null,
      "outputs": []
    },
    {
      "cell_type": "code",
      "source": [
        "transporte_corr_limpio[\"Destino\"].unique()\n",
        "transporte_corr_limpio.loc[transporte[\"Destino\"] == \"Valparaiso Viña del Mar y Concon\", \"Destino\"] = \"Valparaíso Viña del Mar y Concón\"\n",
        "transporte_corr_limpio.loc[transporte[\"Destino\"] == \"Pucon y Villarrica\", \"Destino\"] = \"Pucón y Villarrica\""
      ],
      "metadata": {
        "id": "Wr1p3UomN174"
      },
      "execution_count": null,
      "outputs": []
    },
    {
      "cell_type": "code",
      "source": [
        "transporte_corr_limpio[\"Localidad\"].unique()\n",
        "transporte_corr_limpio.loc[transporte[\"Localidad\"] == \"TALCA (P)\", \"Localidad\"] = \"TALCA\"\n",
        "transporte_corr_limpio.loc[transporte[\"Localidad\"] == \"GRAN TEMUCO (P)\", \"Localidad\"] = \"GRAN TEMUCO\"\n",
        "transporte_corr_limpio.loc[transporte[\"Localidad\"] == \"GRAN CONCEPCIÓN (P)\", \"Localidad\"] = \"GRAN CONCEPCIÓN\"\n",
        "transporte_corr_limpio.loc[transporte[\"Localidad\"] == \"PUCÓN (P)\", \"Localidad\"] = \"PUCÓN\"\n",
        "transporte_corr_limpio.loc[transporte[\"Localidad\"] == \"VILLARRICA (P)\", \"Localidad\"] = \"VILLARRICA\"\n",
        "transporte_corr_limpio.loc[transporte[\"Localidad\"] == \"PUERTO MONTT (P)\", \"Localidad\"] = \"PUERTO MONTT\"\n",
        "transporte_corr_limpio.loc[transporte[\"Localidad\"] == \"OSORNO (P)\", \"Localidad\"] = \"OSORNO\"\n",
        "transporte_corr_limpio.loc[transporte[\"Localidad\"] == \"PUNTA ARENAS (P)\", \"Localidad\"] = \"PUNTA ARENAS\"\n",
        "transporte_corr_limpio.loc[transporte[\"Localidad\"] == \"PUERTO NATALES (P)\", \"Localidad\"] = \"PUERTO NATALES\"\n",
        "transporte_corr_limpio.loc[transporte[\"Localidad\"] == \"COLINA (P)\", \"Localidad\"] = \"COLINA\"\n",
        "transporte_corr_limpio.loc[transporte[\"Localidad\"] == \"METRÓPOLI DE SANTIAGO (P)\", \"Localidad\"] = \"METRÓPOLI DE SANTIAGO\"\n",
        "transporte_corr_limpio.loc[transporte[\"Localidad\"] == \"LA UNIÓN (P)\", \"Localidad\"] = \"LA UNIÓN\"\n",
        "transporte_corr_limpio.loc[transporte[\"Localidad\"] == \"GRAN VALPARAÍSO (P)\", \"Localidad\"] = \"GRAN VALPARAÍSO\"\n",
        "transporte_corr_limpio.loc[transporte[\"Localidad\"] == \"TALCA (P)\", \"Localidad\"] = \"TALCA\"\n",
        "transporte_corr_limpio.loc[transporte[\"Localidad\"] == \"CURICÓ (P)\", \"Localidad\"] = \"CURICÓ (P)\"\n",
        "transporte_corr_limpio.loc[transporte[\"Localidad\"] == \"CURACAUTÍN (P)\", \"Localidad\"] = \"CURACAUTÍN\"\n",
        "transporte_corr_limpio.loc[transporte[\"Localidad\"] == \"PUERTO VARAS (P)\", \"Localidad\"] = \"PUERTO VARAS\"\n",
        "transporte_corr_limpio.loc[transporte[\"Localidad\"] == \"COYHAIQUE\", \"Localidad\"] = \"\"\n",
        "transporte_corr_limpio.loc[transporte[\"Localidad\"] == \"REZAGADOS (P)\", \"Localidad\"] = \"REZAGADOS\"\n",
        "transporte_corr_limpio.loc[transporte[\"Localidad\"] == \"VALDIVIA (P)\", \"Localidad\"] = \"VALDIVIA\""
      ],
      "metadata": {
        "id": "huR5d7JuOv87"
      },
      "execution_count": null,
      "outputs": []
    }
  ]
}